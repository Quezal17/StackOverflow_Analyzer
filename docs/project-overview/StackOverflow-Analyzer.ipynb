{
 "cells": [
  {
   "cell_type": "markdown",
   "metadata": {
    "slideshow": {
     "slide_type": "slide"
    }
   },
   "source": [
    "# StackOverflow - Analyzer\n",
    "\n",
    "Developed by **Simone Torrisi**, Computer Science student at University of Catania"
   ]
  },
  {
   "cell_type": "markdown",
   "metadata": {
    "slideshow": {
     "slide_type": "slide"
    }
   },
   "source": [
    "## Project Goal\n",
    "\n",
    "The goal of this project is to analyze real time questions from **Stack Overflow**, clustering them based on title, body and tags associated to the question and displaying results on dashboards.\n"
   ]
  },
  {
   "cell_type": "markdown",
   "metadata": {
    "slideshow": {
     "slide_type": "slide"
    }
   },
   "source": [
    "## Project structure\n",
    "\n",
    "The project follows the structure below\n",
    "<img src=\"./images/project-structure.svg\" width=\"1000\" height=\"600\"/>"
   ]
  },
  {
   "cell_type": "markdown",
   "metadata": {
    "slideshow": {
     "slide_type": "slide"
    }
   },
   "source": [
    "## What about Stack Overflow?\n",
    "\n",
    "<a href=\"https://stackoverflow.com/\" target=\"_blank\">Stack Overflow</a> is the most popular Q&A web platform about the programming world and it's part of the Stack Exchange network.\n",
    "\n",
    "\"*Questions are everywhere, answers are on Stack Overflow*\""
   ]
  },
  {
   "cell_type": "markdown",
   "metadata": {
    "slideshow": {
     "slide_type": "subslide"
    }
   },
   "source": [
    "<img src=\"./images/meme.png\" width=\"400\" height=\"400\"/>"
   ]
  },
  {
   "cell_type": "markdown",
   "metadata": {
    "slideshow": {
     "slide_type": "slide"
    }
   },
   "source": [
    "## Data Source\n",
    "\n",
    "The data are taken from connecting to Stack Exchange web socket.\n",
    "\n",
    "The web socket address used is \"wss://qa.sockets.stackexchange.com/\" \n",
    "and the first message sent is \"*155-questions-active*\"."
   ]
  },
  {
   "cell_type": "markdown",
   "metadata": {
    "slideshow": {
     "slide_type": "subslide"
    }
   },
   "source": [
    "## Data example\n",
    "\n",
    "<img src=\"./images/data-example.png\" width=\"600\" height=\"500\"/>"
   ]
  },
  {
   "cell_type": "markdown",
   "metadata": {
    "slideshow": {
     "slide_type": "slide"
    }
   },
   "source": [
    "## Data Ingestion"
   ]
  },
  {
   "cell_type": "markdown",
   "metadata": {
    "slideshow": {
     "slide_type": "subslide"
    }
   },
   "source": [
    "For this process, it was built a **Kafka Connector** using Kafka Connect framework.\n",
    "\n",
    "<img src=\"./images/data-ingestion-schema.svg\" width=\"1000\" height=\"800\"/>"
   ]
  },
  {
   "cell_type": "markdown",
   "metadata": {
    "slideshow": {
     "slide_type": "slide"
    }
   },
   "source": [
    "## Data Streaming"
   ]
  },
  {
   "cell_type": "markdown",
   "metadata": {
    "slideshow": {
     "slide_type": "subslide"
    }
   },
   "source": [
    "**Apache Kafka** provides a powerful and optimized data streaming process between producers and consumers.\n",
    "\n",
    "Kafka is executed as a cluster. Each node of the cluster, named Kafka broker, manages Kafka topics and divide them in multiple partitions.\n",
    "\n",
    "In this project, it was used one Kafka topic, named \"*stackoverflow*\", and one partition."
   ]
  },
  {
   "cell_type": "markdown",
   "metadata": {
    "slideshow": {
     "slide_type": "subslide"
    }
   },
   "source": [
    "<img src=\"./images/kafka-schema.svg\" width=\"600\" height=\"500\"/>"
   ]
  },
  {
   "cell_type": "markdown",
   "metadata": {
    "slideshow": {
     "slide_type": "subslide"
    }
   },
   "source": [
    "## Spark Streaming\n",
    "\n",
    "Spark Streaming is part of Spark API and it takes in input a data stream from various sources, including Kafka.\n",
    "\n",
    "It generates a DStream as output that is available for the Spark application.\n",
    "\n",
    "DStream represents a stream of data divided into small batches.\n",
    "\n",
    "<img src=\"./images/spark-streaming-schema.png\" width=\"600\" height=\"400\"/>"
   ]
  },
  {
   "cell_type": "markdown",
   "metadata": {
    "slideshow": {
     "slide_type": "slide"
    }
   },
   "source": [
    "## Data Processing"
   ]
  },
  {
   "cell_type": "markdown",
   "metadata": {
    "slideshow": {
     "slide_type": "subslide"
    }
   },
   "source": [
    "Data are processed with **Apache Spark** using the Machine Learn library (MLlib) and applying a clustering algorithm named **K-Means**."
   ]
  },
  {
   "cell_type": "markdown",
   "metadata": {
    "slideshow": {
     "slide_type": "subslide"
    }
   },
   "source": [
    "<img src=\"./images/data-processing-schema.svg\" width=\"800\" height=\"600\"/>"
   ]
  },
  {
   "cell_type": "markdown",
   "metadata": {
    "slideshow": {
     "slide_type": "subslide"
    }
   },
   "source": [
    "### Pipeline\n",
    "\n",
    "A pipeline is a specified sequence of stages, where each one is a **Transformer** or an **Estimator**.\n",
    "\n",
    "Stages are run in order.\n",
    "\n",
    "For Transformer stages, the transform method is called.\n",
    "For Estimator stages, the fit method is called to produce a Transformer."
   ]
  },
  {
   "cell_type": "markdown",
   "metadata": {
    "slideshow": {
     "slide_type": "subslide"
    }
   },
   "source": [
    "<img src=\"./images/pipeline-schema.svg\" width=\"800\" height=\"600\"/>"
   ]
  },
  {
   "cell_type": "markdown",
   "metadata": {
    "slideshow": {
     "slide_type": "subslide"
    }
   },
   "source": [
    "### K-Means\n",
    "\n",
    "It's an **unsupervised** clustering algorithm that clusters data points into a predefined number of clusters.\n",
    "<img src=\"./images/k-means.png\" width=\"600\" height=\"400\"/>"
   ]
  },
  {
   "cell_type": "markdown",
   "metadata": {
    "slideshow": {
     "slide_type": "slide"
    }
   },
   "source": [
    "## Data Indexing"
   ]
  },
  {
   "cell_type": "markdown",
   "metadata": {
    "slideshow": {
     "slide_type": "subslide"
    }
   },
   "source": [
    "<img src=\"./images/elasticsearch-logo.png\" width=\"400\" height=\"200\"/>\n",
    "\n",
    "<a href=\"https://www.elastic.co/what-is/elasticsearch\">Elasticsearch</a> is a distributed, open source search and analytics engine for all types of data, including textual, numerical, geospatial, structured, and unstructured. Elasticsearch is built on Apache Lucene and was first released in 2010 by Elasticsearch N.V. (now known as Elastic). Known for its simple REST APIs, distributed nature, speed, and scalability, Elasticsearch is the central component of the Elastic Stack, a set of open source tools for data ingestion, enrichment, storage, analysis, and visualization."
   ]
  },
  {
   "cell_type": "markdown",
   "metadata": {
    "slideshow": {
     "slide_type": "slide"
    }
   },
   "source": [
    "## Data Visualization"
   ]
  },
  {
   "cell_type": "markdown",
   "metadata": {
    "slideshow": {
     "slide_type": "subslide"
    }
   },
   "source": [
    "<img src=\"./images/kibana-logo.png\" width=\"300\" height=\"100\"/>\n",
    "\n",
    "<a href=\"https://www.elastic.co/what-is/kibana\">Kibana</a> is an open source frontend application that sits on top of the Elastic Stack, providing search and data visualization capabilities for data indexed in Elasticsearch. Commonly known as the charting tool for the Elastic Stack, Kibana also acts as the user interface for monitoring, managing, and securing an Elastic Stack cluster. "
   ]
  },
  {
   "cell_type": "markdown",
   "metadata": {
    "slideshow": {
     "slide_type": "slide"
    }
   },
   "source": [
    "# Let's go to the live demo"
   ]
  }
 ],
 "metadata": {
  "celltoolbar": "Slideshow",
  "kernelspec": {
   "display_name": "Python 3",
   "language": "python",
   "name": "python3"
  },
  "language_info": {
   "codemirror_mode": {
    "name": "ipython",
    "version": 3
   },
   "file_extension": ".py",
   "mimetype": "text/x-python",
   "name": "python",
   "nbconvert_exporter": "python",
   "pygments_lexer": "ipython3",
   "version": "3.7.6"
  }
 },
 "nbformat": 4,
 "nbformat_minor": 4
}
